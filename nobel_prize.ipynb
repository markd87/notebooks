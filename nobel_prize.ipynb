{
 "cells": [
  {
   "cell_type": "markdown",
   "metadata": {},
   "source": [
    "<h1> Nobel Prize exploration </h1>"
   ]
  },
  {
   "cell_type": "code",
   "execution_count": 1,
   "metadata": {
    "collapsed": true
   },
   "outputs": [],
   "source": [
    "import matplotlib\n",
    "import matplotlib.pyplot as plt\n",
    "import numpy as np\n",
    "import pandas as pd\n",
    "import seaborn as sns\n",
    "matplotlib.rcParams['figure.figsize'] = (0.89 * 12, 6)\n",
    "plt.style.use('fivethirtyeight')\n",
    "%matplotlib inline"
   ]
  },
  {
   "cell_type": "markdown",
   "metadata": {},
   "source": [
    "<h3>Importing data into pandas dataframe</h3>"
   ]
  },
  {
   "cell_type": "code",
   "execution_count": 2,
   "metadata": {},
   "outputs": [],
   "source": [
    "np1=pd.read_csv('nobel_prize_by_winner.csv',encoding = \"ISO-8859-1\",index_col=0)\n",
    "np2=pd.read_csv('nobel_prizes_by_date.csv',encoding = \"ISO-8859-1\",index_col=3)"
   ]
  },
  {
   "cell_type": "code",
   "execution_count": 3,
   "metadata": {},
   "outputs": [
    {
     "data": {
      "text/html": [
       "<div>\n",
       "<style scoped>\n",
       "    .dataframe tbody tr th:only-of-type {\n",
       "        vertical-align: middle;\n",
       "    }\n",
       "\n",
       "    .dataframe tbody tr th {\n",
       "        vertical-align: top;\n",
       "    }\n",
       "\n",
       "    .dataframe thead th {\n",
       "        text-align: right;\n",
       "    }\n",
       "</style>\n",
       "<table border=\"1\" class=\"dataframe\">\n",
       "  <thead>\n",
       "    <tr style=\"text-align: right;\">\n",
       "      <th></th>\n",
       "      <th>firstname</th>\n",
       "      <th>surname</th>\n",
       "      <th>born</th>\n",
       "      <th>died</th>\n",
       "      <th>bornCountry</th>\n",
       "      <th>bornCountryCode</th>\n",
       "      <th>bornCity</th>\n",
       "      <th>diedCountry</th>\n",
       "      <th>diedCountryCode</th>\n",
       "      <th>diedCity</th>\n",
       "      <th>gender</th>\n",
       "      <th>year</th>\n",
       "      <th>category</th>\n",
       "      <th>overallMotivation</th>\n",
       "      <th>share</th>\n",
       "      <th>motivation</th>\n",
       "      <th>name</th>\n",
       "      <th>city</th>\n",
       "      <th>country</th>\n",
       "    </tr>\n",
       "    <tr>\n",
       "      <th>id</th>\n",
       "      <th></th>\n",
       "      <th></th>\n",
       "      <th></th>\n",
       "      <th></th>\n",
       "      <th></th>\n",
       "      <th></th>\n",
       "      <th></th>\n",
       "      <th></th>\n",
       "      <th></th>\n",
       "      <th></th>\n",
       "      <th></th>\n",
       "      <th></th>\n",
       "      <th></th>\n",
       "      <th></th>\n",
       "      <th></th>\n",
       "      <th></th>\n",
       "      <th></th>\n",
       "      <th></th>\n",
       "      <th></th>\n",
       "    </tr>\n",
       "  </thead>\n",
       "  <tbody>\n",
       "    <tr>\n",
       "      <th>846</th>\n",
       "      <td>Elinor</td>\n",
       "      <td>Ostrom</td>\n",
       "      <td>8/7/1933</td>\n",
       "      <td>6/12/2012</td>\n",
       "      <td>USA</td>\n",
       "      <td>US</td>\n",
       "      <td>Los Angeles, CA</td>\n",
       "      <td>USA</td>\n",
       "      <td>US</td>\n",
       "      <td>Bloomington, IN</td>\n",
       "      <td>female</td>\n",
       "      <td>2009.0</td>\n",
       "      <td>economics</td>\n",
       "      <td>NaN</td>\n",
       "      <td>2.0</td>\n",
       "      <td>\"for her analysis of economic governance, espe...</td>\n",
       "      <td>Indiana University</td>\n",
       "      <td>Bloomington, IN</td>\n",
       "      <td>USA</td>\n",
       "    </tr>\n",
       "    <tr>\n",
       "      <th>846</th>\n",
       "      <td>Elinor</td>\n",
       "      <td>Ostrom</td>\n",
       "      <td>8/7/1933</td>\n",
       "      <td>6/12/2012</td>\n",
       "      <td>USA</td>\n",
       "      <td>US</td>\n",
       "      <td>Los Angeles, CA</td>\n",
       "      <td>USA</td>\n",
       "      <td>US</td>\n",
       "      <td>Bloomington, IN</td>\n",
       "      <td>female</td>\n",
       "      <td>2009.0</td>\n",
       "      <td>economics</td>\n",
       "      <td>NaN</td>\n",
       "      <td>2.0</td>\n",
       "      <td>\"for her analysis of economic governance, espe...</td>\n",
       "      <td>Arizona State University</td>\n",
       "      <td>Tempe, AZ</td>\n",
       "      <td>USA</td>\n",
       "    </tr>\n",
       "    <tr>\n",
       "      <th>783</th>\n",
       "      <td>Wangari Muta</td>\n",
       "      <td>Maathai</td>\n",
       "      <td>4/1/1940</td>\n",
       "      <td>9/25/2011</td>\n",
       "      <td>Kenya</td>\n",
       "      <td>KE</td>\n",
       "      <td>Nyeri</td>\n",
       "      <td>Kenya</td>\n",
       "      <td>KE</td>\n",
       "      <td>Nairobi</td>\n",
       "      <td>female</td>\n",
       "      <td>2004.0</td>\n",
       "      <td>peace</td>\n",
       "      <td>NaN</td>\n",
       "      <td>1.0</td>\n",
       "      <td>\"for her contribution to sustainable developme...</td>\n",
       "      <td>NaN</td>\n",
       "      <td>NaN</td>\n",
       "      <td>NaN</td>\n",
       "    </tr>\n",
       "    <tr>\n",
       "      <th>230</th>\n",
       "      <td>Dorothy Crowfoot</td>\n",
       "      <td>Hodgkin</td>\n",
       "      <td>5/12/1910</td>\n",
       "      <td>7/29/1994</td>\n",
       "      <td>Egypt</td>\n",
       "      <td>EG</td>\n",
       "      <td>Cairo</td>\n",
       "      <td>United Kingdom</td>\n",
       "      <td>GB</td>\n",
       "      <td>Shipston-on-Stour</td>\n",
       "      <td>female</td>\n",
       "      <td>1964.0</td>\n",
       "      <td>chemistry</td>\n",
       "      <td>NaN</td>\n",
       "      <td>1.0</td>\n",
       "      <td>\"for her determinations by X-ray techniques of...</td>\n",
       "      <td>University of Oxford, Royal Society</td>\n",
       "      <td>Oxford</td>\n",
       "      <td>United Kingdom</td>\n",
       "    </tr>\n",
       "    <tr>\n",
       "      <th>918</th>\n",
       "      <td>Youyou</td>\n",
       "      <td>Tu</td>\n",
       "      <td>12/30/1930</td>\n",
       "      <td>0000-00-00</td>\n",
       "      <td>China</td>\n",
       "      <td>CN</td>\n",
       "      <td>Zhejiang Ningbo</td>\n",
       "      <td>NaN</td>\n",
       "      <td>NaN</td>\n",
       "      <td>NaN</td>\n",
       "      <td>female</td>\n",
       "      <td>2015.0</td>\n",
       "      <td>medicine</td>\n",
       "      <td>NaN</td>\n",
       "      <td>2.0</td>\n",
       "      <td>\"for her discoveries concerning a novel therap...</td>\n",
       "      <td>China Academy of Traditional Chinese Medicine</td>\n",
       "      <td>Beijing</td>\n",
       "      <td>China</td>\n",
       "    </tr>\n",
       "  </tbody>\n",
       "</table>\n",
       "</div>"
      ],
      "text/plain": [
       "            firstname  surname        born        died bornCountry  \\\n",
       "id                                                                   \n",
       "846            Elinor   Ostrom    8/7/1933   6/12/2012         USA   \n",
       "846            Elinor   Ostrom    8/7/1933   6/12/2012         USA   \n",
       "783      Wangari Muta  Maathai    4/1/1940   9/25/2011       Kenya   \n",
       "230  Dorothy Crowfoot  Hodgkin   5/12/1910   7/29/1994       Egypt   \n",
       "918            Youyou       Tu  12/30/1930  0000-00-00       China   \n",
       "\n",
       "    bornCountryCode         bornCity     diedCountry diedCountryCode  \\\n",
       "id                                                                     \n",
       "846              US  Los Angeles, CA             USA              US   \n",
       "846              US  Los Angeles, CA             USA              US   \n",
       "783              KE            Nyeri           Kenya              KE   \n",
       "230              EG            Cairo  United Kingdom              GB   \n",
       "918              CN  Zhejiang Ningbo             NaN             NaN   \n",
       "\n",
       "              diedCity  gender    year   category overallMotivation  share  \\\n",
       "id                                                                           \n",
       "846    Bloomington, IN  female  2009.0  economics               NaN    2.0   \n",
       "846    Bloomington, IN  female  2009.0  economics               NaN    2.0   \n",
       "783            Nairobi  female  2004.0      peace               NaN    1.0   \n",
       "230  Shipston-on-Stour  female  1964.0  chemistry               NaN    1.0   \n",
       "918                NaN  female  2015.0   medicine               NaN    2.0   \n",
       "\n",
       "                                            motivation  \\\n",
       "id                                                       \n",
       "846  \"for her analysis of economic governance, espe...   \n",
       "846  \"for her analysis of economic governance, espe...   \n",
       "783  \"for her contribution to sustainable developme...   \n",
       "230  \"for her determinations by X-ray techniques of...   \n",
       "918  \"for her discoveries concerning a novel therap...   \n",
       "\n",
       "                                              name             city  \\\n",
       "id                                                                    \n",
       "846                             Indiana University  Bloomington, IN   \n",
       "846                       Arizona State University        Tempe, AZ   \n",
       "783                                            NaN              NaN   \n",
       "230            University of Oxford, Royal Society           Oxford   \n",
       "918  China Academy of Traditional Chinese Medicine          Beijing   \n",
       "\n",
       "            country  \n",
       "id                   \n",
       "846             USA  \n",
       "846             USA  \n",
       "783             NaN  \n",
       "230  United Kingdom  \n",
       "918           China  "
      ]
     },
     "execution_count": 3,
     "metadata": {},
     "output_type": "execute_result"
    }
   ],
   "source": [
    "np1.head()"
   ]
  },
  {
   "cell_type": "code",
   "execution_count": 4,
   "metadata": {},
   "outputs": [
    {
     "data": {
      "text/html": [
       "<div>\n",
       "<style scoped>\n",
       "    .dataframe tbody tr th:only-of-type {\n",
       "        vertical-align: middle;\n",
       "    }\n",
       "\n",
       "    .dataframe tbody tr th {\n",
       "        vertical-align: top;\n",
       "    }\n",
       "\n",
       "    .dataframe thead th {\n",
       "        text-align: right;\n",
       "    }\n",
       "</style>\n",
       "<table border=\"1\" class=\"dataframe\">\n",
       "  <thead>\n",
       "    <tr style=\"text-align: right;\">\n",
       "      <th></th>\n",
       "      <th>year</th>\n",
       "      <th>category</th>\n",
       "      <th>overallMotivation</th>\n",
       "      <th>firstname</th>\n",
       "      <th>surname</th>\n",
       "      <th>motivation</th>\n",
       "      <th>share</th>\n",
       "    </tr>\n",
       "    <tr>\n",
       "      <th>id</th>\n",
       "      <th></th>\n",
       "      <th></th>\n",
       "      <th></th>\n",
       "      <th></th>\n",
       "      <th></th>\n",
       "      <th></th>\n",
       "      <th></th>\n",
       "    </tr>\n",
       "  </thead>\n",
       "  <tbody>\n",
       "    <tr>\n",
       "      <th>928</th>\n",
       "      <td>2016</td>\n",
       "      <td>physics</td>\n",
       "      <td>NaN</td>\n",
       "      <td>David J.</td>\n",
       "      <td>Thouless</td>\n",
       "      <td>\"for theoretical discoveries of topological ph...</td>\n",
       "      <td>2</td>\n",
       "    </tr>\n",
       "    <tr>\n",
       "      <th>929</th>\n",
       "      <td>2016</td>\n",
       "      <td>physics</td>\n",
       "      <td>NaN</td>\n",
       "      <td>F. Duncan M.</td>\n",
       "      <td>Haldane</td>\n",
       "      <td>\"for theoretical discoveries of topological ph...</td>\n",
       "      <td>4</td>\n",
       "    </tr>\n",
       "    <tr>\n",
       "      <th>930</th>\n",
       "      <td>2016</td>\n",
       "      <td>physics</td>\n",
       "      <td>NaN</td>\n",
       "      <td>J. Michael</td>\n",
       "      <td>Kosterlitz</td>\n",
       "      <td>\"for theoretical discoveries of topological ph...</td>\n",
       "      <td>4</td>\n",
       "    </tr>\n",
       "    <tr>\n",
       "      <th>931</th>\n",
       "      <td>2016</td>\n",
       "      <td>chemistry</td>\n",
       "      <td>NaN</td>\n",
       "      <td>Jean-Pierre</td>\n",
       "      <td>Sauvage</td>\n",
       "      <td>\"for the design and synthesis of molecular mac...</td>\n",
       "      <td>3</td>\n",
       "    </tr>\n",
       "    <tr>\n",
       "      <th>932</th>\n",
       "      <td>2016</td>\n",
       "      <td>chemistry</td>\n",
       "      <td>NaN</td>\n",
       "      <td>Sir J. Fraser</td>\n",
       "      <td>Stoddart</td>\n",
       "      <td>\"for the design and synthesis of molecular mac...</td>\n",
       "      <td>3</td>\n",
       "    </tr>\n",
       "  </tbody>\n",
       "</table>\n",
       "</div>"
      ],
      "text/plain": [
       "     year   category overallMotivation      firstname     surname  \\\n",
       "id                                                                  \n",
       "928  2016    physics               NaN       David J.    Thouless   \n",
       "929  2016    physics               NaN   F. Duncan M.     Haldane   \n",
       "930  2016    physics               NaN     J. Michael  Kosterlitz   \n",
       "931  2016  chemistry               NaN    Jean-Pierre     Sauvage   \n",
       "932  2016  chemistry               NaN  Sir J. Fraser    Stoddart   \n",
       "\n",
       "                                            motivation  share  \n",
       "id                                                             \n",
       "928  \"for theoretical discoveries of topological ph...      2  \n",
       "929  \"for theoretical discoveries of topological ph...      4  \n",
       "930  \"for theoretical discoveries of topological ph...      4  \n",
       "931  \"for the design and synthesis of molecular mac...      3  \n",
       "932  \"for the design and synthesis of molecular mac...      3  "
      ]
     },
     "execution_count": 4,
     "metadata": {},
     "output_type": "execute_result"
    }
   ],
   "source": [
    "np2.head()"
   ]
  },
  {
   "cell_type": "code",
   "execution_count": 5,
   "metadata": {},
   "outputs": [
    {
     "name": "stdout",
     "output_type": "stream",
     "text": [
      "<class 'pandas.core.frame.DataFrame'>\n",
      "Int64Index: 972 entries, 846 to 550\n",
      "Data columns (total 19 columns):\n",
      "firstname            966 non-null object\n",
      "surname              936 non-null object\n",
      "born                 946 non-null object\n",
      "died                 946 non-null object\n",
      "bornCountry          940 non-null object\n",
      "bornCountryCode      940 non-null object\n",
      "bornCity             938 non-null object\n",
      "diedCountry          601 non-null object\n",
      "diedCountryCode      600 non-null object\n",
      "diedCity             595 non-null object\n",
      "gender               972 non-null object\n",
      "year                 966 non-null float64\n",
      "category             966 non-null object\n",
      "overallMotivation    16 non-null object\n",
      "share                966 non-null float64\n",
      "motivation           878 non-null object\n",
      "name                 720 non-null object\n",
      "city                 714 non-null object\n",
      "country              714 non-null object\n",
      "dtypes: float64(2), object(17)\n",
      "memory usage: 151.9+ KB\n"
     ]
    }
   ],
   "source": [
    "np1.info()"
   ]
  },
  {
   "cell_type": "code",
   "execution_count": 61,
   "metadata": {},
   "outputs": [],
   "source": [
    "counts=np1['country'].value_counts().sort_values(ascending=False).reset_index()\n",
    "counts.columns=[\"country\",\"counts\"]"
   ]
  },
  {
   "cell_type": "code",
   "execution_count": 6,
   "metadata": {},
   "outputs": [
    {
     "data": {
      "text/plain": [
       "(array([0, 1, 2, 3, 4, 5, 6]), <a list of 7 Text xticklabel objects>)"
      ]
     },
     "execution_count": 6,
     "metadata": {},
     "output_type": "execute_result"
    },
    {
     "data": {
      "image/png": "[encoded data removed]",
      "text/plain": [
       "<matplotlib.figure.Figure at 0x109968dd8>"
      ]
     },
     "metadata": {},
     "output_type": "display_data"
    }
   ],
   "source": [
    "g=sns.countplot(x='country',data=np1[np1['category']=='physics'],order=np1.country.value_counts().iloc[:7].index)\n",
    "plt.xticks(rotation=90)"
   ]
  },
  {
   "cell_type": "markdown",
   "metadata": {},
   "source": [
    "<h4>Categories</h4>"
   ]
  },
  {
   "cell_type": "code",
   "execution_count": 15,
   "metadata": {},
   "outputs": [
    {
     "name": "stdout",
     "output_type": "stream",
     "text": [
      "['economics' 'peace' 'chemistry' 'medicine' 'literature' 'physics' nan]\n"
     ]
    }
   ],
   "source": [
    "cats=np1['category'].unique()\n",
    "print(cats)"
   ]
  },
  {
   "cell_type": "code",
   "execution_count": 16,
   "metadata": {},
   "outputs": [
    {
     "name": "stdout",
     "output_type": "stream",
     "text": [
      "['economics', 'peace', 'chemistry', 'medicine', 'literature', 'physics']\n"
     ]
    }
   ],
   "source": [
    "cats=[cat for cat in cats if str(cat)!='nan']\n",
    "print(cats)"
   ]
  },
  {
   "cell_type": "code",
   "execution_count": 17,
   "metadata": {
    "collapsed": true
   },
   "outputs": [],
   "source": [
    "red_cats=['physics','chemistry', 'medicine','economics']"
   ]
  },
  {
   "cell_type": "markdown",
   "metadata": {},
   "source": [
    "<h3>Precentage of Nobel prize winners per country in each category</h3>"
   ]
  },
  {
   "cell_type": "code",
   "execution_count": 18,
   "metadata": {},
   "outputs": [
    {
     "data": {
      "image/png": "[encoded data removed]",
      "text/plain": [
       "<matplotlib.figure.Figure at 0x1157c81d0>"
      ]
     },
     "metadata": {},
     "output_type": "display_data"
    }
   ],
   "source": [
    "plt.figure(figsize=(15,4))\n",
    "for i,cat in enumerate(['physics','chemistry', 'medicine','economics']):\n",
    "    cnts=np1[np1['category']==cat].groupby('country').size().sort_values(ascending=False)\n",
    "    plt.subplot(1,4,i+1)\n",
    "    (cnts/sum(cnts)*100).plot(kind='bar',title=cat)\n",
    "    plt.xlim([-0.5,7.5])\n",
    "    plt.xticks(fontsize=16)\n",
    "    plt.yticks(fontsize=16)\n",
    "    plt.ylabel('%',fontsize=15)\n",
    "    plt.xlabel('')"
   ]
  },
  {
   "cell_type": "markdown",
   "metadata": {},
   "source": [
    "<h3>Nobel prize winners by gender</h3>"
   ]
  },
  {
   "cell_type": "code",
   "execution_count": 20,
   "metadata": {},
   "outputs": [
    {
     "data": {
      "text/plain": [
       "gender\n",
       "female     50\n",
       "male      896\n",
       "org        26\n",
       "dtype: int64"
      ]
     },
     "execution_count": 20,
     "metadata": {},
     "output_type": "execute_result"
    }
   ],
   "source": [
    "np1.groupby('gender').size()"
   ]
  },
  {
   "cell_type": "code",
   "execution_count": 22,
   "metadata": {},
   "outputs": [
    {
     "data": {
      "text/plain": [
       "<matplotlib.text.Text at 0x115990710>"
      ]
     },
     "execution_count": 22,
     "metadata": {},
     "output_type": "execute_result"
    },
    {
     "data": {
      "image/png": "[encoded data removed]",
      "text/plain": [
       "<matplotlib.figure.Figure at 0x1159953c8>"
      ]
     },
     "metadata": {},
     "output_type": "display_data"
    }
   ],
   "source": [
    "np1.groupby('gender').size().plot(kind='bar')\n",
    "plt.ylabel('count')"
   ]
  },
  {
   "cell_type": "code",
   "execution_count": 13,
   "metadata": {},
   "outputs": [
    {
     "data": {
      "text/plain": [
       "<matplotlib.axes._subplots.AxesSubplot at 0x115632e48>"
      ]
     },
     "execution_count": 13,
     "metadata": {},
     "output_type": "execute_result"
    },
    {
     "data": {
      "image/png": "[encoded data removed]",
      "text/plain": [
       "<matplotlib.figure.Figure at 0x1153cfb38>"
      ]
     },
     "metadata": {},
     "output_type": "display_data"
    }
   ],
   "source": [
    "sns.countplot(x='category',data=np1[np1.category.isin(red_cats)],hue='gender')"
   ]
  },
  {
   "cell_type": "code",
   "execution_count": null,
   "metadata": {
    "collapsed": true
   },
   "outputs": [],
   "source": []
  }
 ],
 "metadata": {
  "kernelspec": {
   "display_name": "Python [default]",
   "language": "python",
   "name": "python3"
  },
  "language_info": {
   "codemirror_mode": {
    "name": "ipython",
    "version": 3
   },
   "file_extension": ".py",
   "mimetype": "text/x-python",
   "name": "python",
   "nbconvert_exporter": "python",
   "pygments_lexer": "ipython3",
   "version": "3.5.3"
  }
 },
 "nbformat": 4,
 "nbformat_minor": 2
}
